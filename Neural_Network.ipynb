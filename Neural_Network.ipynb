{
 "cells": [
  {
   "cell_type": "code",
   "execution_count": 2,
   "metadata": {},
   "outputs": [],
   "source": [
    "# Import our dependencies\n",
    "import pandas as pd\n",
    "import matplotlib as plt\n",
    "from sklearn.datasets import make_blobs\n",
    "import sklearn as skl\n",
    "import tensorflow as tf"
   ]
  },
  {
   "cell_type": "code",
   "execution_count": 3,
   "metadata": {},
   "outputs": [
    {
     "data": {
      "text/plain": [
       "<AxesSubplot:xlabel='Feature 1', ylabel='Feature 2'>"
      ]
     },
     "execution_count": 3,
     "metadata": {},
     "output_type": "execute_result"
    },
    {
     "data": {
      "image/png": "[encoded data removed]",
      "text/plain": [
       "<Figure size 432x288 with 2 Axes>"
      ]
     },
     "metadata": {
      "needs_background": "light"
     },
     "output_type": "display_data"
    }
   ],
   "source": [
    "# Generate dummy dataset\n",
    "X, y = make_blobs(n_samples=1000, centers=2, n_features=2, random_state=78)\n",
    "\n",
    "# Creating a DataFrame with the dummy data\n",
    "df = pd.DataFrame(X, columns=[\"Feature 1\", \"Feature 2\"])\n",
    "df[\"Target\"] = y\n",
    "\n",
    "# Plotting the dummy data\n",
    "df.plot.scatter(x=\"Feature 1\", y=\"Feature 2\", c=\"Target\", colormap=\"winter\")"
   ]
  },
  {
   "cell_type": "code",
   "execution_count": 4,
   "metadata": {},
   "outputs": [],
   "source": [
    "# Use sklearn to split dataset\n",
    "from sklearn.model_selection import train_test_split\n",
    "X_train, X_test, y_train, y_test = train_test_split(X, y, random_state=78)\n"
   ]
  },
  {
   "cell_type": "code",
   "execution_count": 5,
   "metadata": {},
   "outputs": [],
   "source": [
    "# Create scaler instance\n",
    "X_scaler = skl.preprocessing.StandardScaler()\n",
    "\n",
    "# Fit the scaler\n",
    "X_scaler.fit(X_train)\n",
    "\n",
    "# Scale the data\n",
    "X_train_scaled = X_scaler.transform(X_train)\n",
    "X_test_scaled = X_scaler.transform(X_test)"
   ]
  },
  {
   "cell_type": "code",
   "execution_count": 6,
   "metadata": {},
   "outputs": [],
   "source": [
    "# Create the Keras Sequential model\n",
    "nn_model = tf.keras.models.Sequential()"
   ]
  },
  {
   "cell_type": "code",
   "execution_count": 7,
   "metadata": {},
   "outputs": [],
   "source": [
    "# Add our first Dense layer, including the input layer\n",
    "nn_model.add(tf.keras.layers.Dense(units=1, activation=\"relu\", input_dim=2))"
   ]
  },
  {
   "cell_type": "code",
   "execution_count": 10,
   "metadata": {},
   "outputs": [],
   "source": [
    "# Add the output layer that uses a probability activation function\n",
    "nn_model.add(tf.keras.layers.Dense(units=1, activation=\"sigmoid\"))"
   ]
  },
  {
   "cell_type": "code",
   "execution_count": 11,
   "metadata": {},
   "outputs": [
    {
     "name": "stdout",
     "output_type": "stream",
     "text": [
      "Model: \"sequential\"\n",
      "_________________________________________________________________\n",
      "Layer (type)                 Output Shape              Param #   \n",
      "=================================================================\n",
      "dense (Dense)                (None, 1)                 3         \n",
      "_________________________________________________________________\n",
      "dense_1 (Dense)              (None, 1)                 2         \n",
      "=================================================================\n",
      "Total params: 5\n",
      "Trainable params: 5\n",
      "Non-trainable params: 0\n",
      "_________________________________________________________________\n"
     ]
    }
   ],
   "source": [
    "# Check the structure of the Sequential model\n",
    "nn_model.summary()"
   ]
  },
  {
   "cell_type": "code",
   "execution_count": 12,
   "metadata": {},
   "outputs": [],
   "source": [
    "# Compile the Sequential model together and customize metrics\n",
    "nn_model.compile(loss=\"binary_crossentropy\", optimizer=\"adam\", metrics=[\"accuracy\"])\n"
   ]
  },
  {
   "cell_type": "code",
   "execution_count": 13,
   "metadata": {},
   "outputs": [
    {
     "name": "stdout",
     "output_type": "stream",
     "text": [
      "Train on 750 samples\n",
      "Epoch 1/100\n",
      "750/750 [==============================] - 1s 1ms/sample - loss: 0.7386 - accuracy: 0.1573\n",
      "Epoch 2/100\n",
      "750/750 [==============================] - 0s 53us/sample - loss: 0.7297 - accuracy: 0.0053\n",
      "Epoch 3/100\n",
      "750/750 [==============================] - 0s 55us/sample - loss: 0.7220 - accuracy: 0.0133\n",
      "Epoch 4/100\n",
      "750/750 [==============================] - 0s 56us/sample - loss: 0.7157 - accuracy: 0.0227\n",
      "Epoch 5/100\n",
      "750/750 [==============================] - 0s 69us/sample - loss: 0.7101 - accuracy: 0.0453\n",
      "Epoch 6/100\n",
      "750/750 [==============================] - 0s 54us/sample - loss: 0.7055 - accuracy: 0.1000\n",
      "Epoch 7/100\n",
      "750/750 [==============================] - 0s 52us/sample - loss: 0.7014 - accuracy: 0.1800\n",
      "Epoch 8/100\n",
      "750/750 [==============================] - 0s 52us/sample - loss: 0.6979 - accuracy: 0.3733\n",
      "Epoch 9/100\n",
      "750/750 [==============================] - 0s 54us/sample - loss: 0.6947 - accuracy: 0.5053\n",
      "Epoch 10/100\n",
      "750/750 [==============================] - 0s 56us/sample - loss: 0.6915 - accuracy: 0.5067\n",
      "Epoch 11/100\n",
      "750/750 [==============================] - 0s 53us/sample - loss: 0.6885 - accuracy: 0.5067\n",
      "Epoch 12/100\n",
      "750/750 [==============================] - 0s 51us/sample - loss: 0.6851 - accuracy: 0.5067\n",
      "Epoch 13/100\n",
      "750/750 [==============================] - 0s 55us/sample - loss: 0.6812 - accuracy: 0.5067\n",
      "Epoch 14/100\n",
      "750/750 [==============================] - 0s 52us/sample - loss: 0.6767 - accuracy: 0.5067\n",
      "Epoch 15/100\n",
      "750/750 [==============================] - 0s 52us/sample - loss: 0.6711 - accuracy: 0.5067\n",
      "Epoch 16/100\n",
      "750/750 [==============================] - 0s 51us/sample - loss: 0.6642 - accuracy: 0.5067\n",
      "Epoch 17/100\n",
      "750/750 [==============================] - 0s 62us/sample - loss: 0.6557 - accuracy: 0.5067\n",
      "Epoch 18/100\n",
      "750/750 [==============================] - 0s 59us/sample - loss: 0.6453 - accuracy: 0.5067\n",
      "Epoch 19/100\n",
      "750/750 [==============================] - 0s 53us/sample - loss: 0.6333 - accuracy: 0.6533\n",
      "Epoch 20/100\n",
      "750/750 [==============================] - 0s 52us/sample - loss: 0.6197 - accuracy: 1.0000\n",
      "Epoch 21/100\n",
      "750/750 [==============================] - 0s 54us/sample - loss: 0.6045 - accuracy: 1.0000\n",
      "Epoch 22/100\n",
      "750/750 [==============================] - 0s 52us/sample - loss: 0.5881 - accuracy: 1.0000\n",
      "Epoch 23/100\n",
      "750/750 [==============================] - 0s 52us/sample - loss: 0.5709 - accuracy: 1.0000\n",
      "Epoch 24/100\n",
      "750/750 [==============================] - 0s 52us/sample - loss: 0.5528 - accuracy: 1.0000\n",
      "Epoch 25/100\n",
      "750/750 [==============================] - 0s 56us/sample - loss: 0.5345 - accuracy: 1.0000\n",
      "Epoch 26/100\n",
      "750/750 [==============================] - 0s 54us/sample - loss: 0.5161 - accuracy: 1.0000\n",
      "Epoch 27/100\n",
      "750/750 [==============================] - 0s 52us/sample - loss: 0.4980 - accuracy: 1.0000\n",
      "Epoch 28/100\n",
      "750/750 [==============================] - 0s 52us/sample - loss: 0.4801 - accuracy: 1.0000\n",
      "Epoch 29/100\n",
      "750/750 [==============================] - 0s 56us/sample - loss: 0.4627 - accuracy: 1.0000\n",
      "Epoch 30/100\n",
      "750/750 [==============================] - 0s 52us/sample - loss: 0.4458 - accuracy: 1.0000\n",
      "Epoch 31/100\n",
      "750/750 [==============================] - 0s 51us/sample - loss: 0.4294 - accuracy: 1.0000\n",
      "Epoch 32/100\n",
      "750/750 [==============================] - 0s 56us/sample - loss: 0.4139 - accuracy: 1.0000\n",
      "Epoch 33/100\n",
      "750/750 [==============================] - 0s 58us/sample - loss: 0.3990 - accuracy: 1.0000\n",
      "Epoch 34/100\n",
      "750/750 [==============================] - 0s 55us/sample - loss: 0.3848 - accuracy: 1.0000\n",
      "Epoch 35/100\n",
      "750/750 [==============================] - 0s 52us/sample - loss: 0.3712 - accuracy: 1.0000\n",
      "Epoch 36/100\n",
      "750/750 [==============================] - 0s 59us/sample - loss: 0.3584 - accuracy: 1.0000\n",
      "Epoch 37/100\n",
      "750/750 [==============================] - 0s 54us/sample - loss: 0.3463 - accuracy: 1.0000\n",
      "Epoch 38/100\n",
      "750/750 [==============================] - 0s 55us/sample - loss: 0.3347 - accuracy: 1.0000\n",
      "Epoch 39/100\n",
      "750/750 [==============================] - 0s 56us/sample - loss: 0.3238 - accuracy: 1.0000\n",
      "Epoch 40/100\n",
      "750/750 [==============================] - 0s 54us/sample - loss: 0.3134 - accuracy: 1.0000\n",
      "Epoch 41/100\n",
      "750/750 [==============================] - 0s 51us/sample - loss: 0.3036 - accuracy: 1.0000\n",
      "Epoch 42/100\n",
      "750/750 [==============================] - 0s 56us/sample - loss: 0.2942 - accuracy: 1.0000\n",
      "Epoch 43/100\n",
      "750/750 [==============================] - 0s 59us/sample - loss: 0.2854 - accuracy: 1.0000\n",
      "Epoch 44/100\n",
      "750/750 [==============================] - 0s 62us/sample - loss: 0.2769 - accuracy: 1.0000\n",
      "Epoch 45/100\n",
      "750/750 [==============================] - 0s 52us/sample - loss: 0.2689 - accuracy: 1.0000\n",
      "Epoch 46/100\n",
      "750/750 [==============================] - 0s 74us/sample - loss: 0.2613 - accuracy: 1.0000\n",
      "Epoch 47/100\n",
      "750/750 [==============================] - 0s 54us/sample - loss: 0.2540 - accuracy: 1.0000\n",
      "Epoch 48/100\n",
      "750/750 [==============================] - 0s 57us/sample - loss: 0.2470 - accuracy: 1.0000\n",
      "Epoch 49/100\n",
      "750/750 [==============================] - 0s 53us/sample - loss: 0.2404 - accuracy: 1.0000\n",
      "Epoch 50/100\n",
      "750/750 [==============================] - 0s 60us/sample - loss: 0.2341 - accuracy: 1.0000\n",
      "Epoch 51/100\n",
      "750/750 [==============================] - 0s 53us/sample - loss: 0.2280 - accuracy: 1.0000\n",
      "Epoch 52/100\n",
      "750/750 [==============================] - 0s 60us/sample - loss: 0.2222 - accuracy: 1.0000\n",
      "Epoch 53/100\n",
      "750/750 [==============================] - 0s 61us/sample - loss: 0.2167 - accuracy: 1.0000\n",
      "Epoch 54/100\n",
      "750/750 [==============================] - 0s 52us/sample - loss: 0.2113 - accuracy: 1.0000\n",
      "Epoch 55/100\n",
      "750/750 [==============================] - 0s 53us/sample - loss: 0.2062 - accuracy: 1.0000\n",
      "Epoch 56/100\n",
      "750/750 [==============================] - 0s 51us/sample - loss: 0.2012 - accuracy: 1.0000\n",
      "Epoch 57/100\n",
      "750/750 [==============================] - 0s 52us/sample - loss: 0.1965 - accuracy: 1.0000\n",
      "Epoch 58/100\n",
      "750/750 [==============================] - 0s 55us/sample - loss: 0.1919 - accuracy: 1.0000\n",
      "Epoch 59/100\n",
      "750/750 [==============================] - 0s 52us/sample - loss: 0.1875 - accuracy: 1.0000\n",
      "Epoch 60/100\n",
      "750/750 [==============================] - 0s 57us/sample - loss: 0.1833 - accuracy: 1.0000\n",
      "Epoch 61/100\n",
      "750/750 [==============================] - 0s 53us/sample - loss: 0.1792 - accuracy: 1.0000\n",
      "Epoch 62/100\n",
      "750/750 [==============================] - 0s 52us/sample - loss: 0.1753 - accuracy: 1.0000\n",
      "Epoch 63/100\n",
      "750/750 [==============================] - 0s 51us/sample - loss: 0.1714 - accuracy: 1.0000\n",
      "Epoch 64/100\n",
      "750/750 [==============================] - 0s 53us/sample - loss: 0.1678 - accuracy: 1.0000\n",
      "Epoch 65/100\n",
      "750/750 [==============================] - 0s 63us/sample - loss: 0.1642 - accuracy: 1.0000\n",
      "Epoch 66/100\n",
      "750/750 [==============================] - 0s 54us/sample - loss: 0.1608 - accuracy: 1.0000\n",
      "Epoch 67/100\n",
      "750/750 [==============================] - 0s 56us/sample - loss: 0.1575 - accuracy: 1.0000\n",
      "Epoch 68/100\n",
      "750/750 [==============================] - 0s 55us/sample - loss: 0.1542 - accuracy: 1.0000\n",
      "Epoch 69/100\n",
      "750/750 [==============================] - 0s 52us/sample - loss: 0.1511 - accuracy: 1.0000\n",
      "Epoch 70/100\n",
      "750/750 [==============================] - 0s 52us/sample - loss: 0.1481 - accuracy: 1.0000\n",
      "Epoch 71/100\n",
      "750/750 [==============================] - 0s 52us/sample - loss: 0.1451 - accuracy: 1.0000\n",
      "Epoch 72/100\n",
      "750/750 [==============================] - 0s 54us/sample - loss: 0.1423 - accuracy: 1.0000\n",
      "Epoch 73/100\n",
      "750/750 [==============================] - 0s 56us/sample - loss: 0.1395 - accuracy: 1.0000\n",
      "Epoch 74/100\n",
      "750/750 [==============================] - 0s 52us/sample - loss: 0.1368 - accuracy: 1.0000\n",
      "Epoch 75/100\n",
      "750/750 [==============================] - 0s 52us/sample - loss: 0.1342 - accuracy: 1.0000\n",
      "Epoch 76/100\n",
      "750/750 [==============================] - 0s 51us/sample - loss: 0.1317 - accuracy: 1.0000\n",
      "Epoch 77/100\n",
      "750/750 [==============================] - 0s 51us/sample - loss: 0.1292 - accuracy: 1.0000\n",
      "Epoch 78/100\n"
     ]
    },
    {
     "name": "stdout",
     "output_type": "stream",
     "text": [
      "750/750 [==============================] - 0s 54us/sample - loss: 0.1268 - accuracy: 1.0000\n",
      "Epoch 79/100\n",
      "750/750 [==============================] - 0s 52us/sample - loss: 0.1245 - accuracy: 1.0000\n",
      "Epoch 80/100\n",
      "750/750 [==============================] - 0s 49us/sample - loss: 0.1222 - accuracy: 1.0000\n",
      "Epoch 81/100\n",
      "750/750 [==============================] - 0s 50us/sample - loss: 0.1200 - accuracy: 1.0000\n",
      "Epoch 82/100\n",
      "750/750 [==============================] - 0s 49us/sample - loss: 0.1179 - accuracy: 1.0000\n",
      "Epoch 83/100\n",
      "750/750 [==============================] - 0s 50us/sample - loss: 0.1157 - accuracy: 1.0000\n",
      "Epoch 84/100\n",
      "750/750 [==============================] - 0s 49us/sample - loss: 0.1137 - accuracy: 1.0000\n",
      "Epoch 85/100\n",
      "750/750 [==============================] - 0s 50us/sample - loss: 0.1117 - accuracy: 1.0000\n",
      "Epoch 86/100\n",
      "750/750 [==============================] - 0s 48us/sample - loss: 0.1098 - accuracy: 1.0000\n",
      "Epoch 87/100\n",
      "750/750 [==============================] - 0s 49us/sample - loss: 0.1079 - accuracy: 1.0000\n",
      "Epoch 88/100\n",
      "750/750 [==============================] - 0s 49us/sample - loss: 0.1060 - accuracy: 1.0000\n",
      "Epoch 89/100\n",
      "750/750 [==============================] - 0s 51us/sample - loss: 0.1042 - accuracy: 1.0000\n",
      "Epoch 90/100\n",
      "750/750 [==============================] - 0s 50us/sample - loss: 0.1025 - accuracy: 1.0000\n",
      "Epoch 91/100\n",
      "750/750 [==============================] - 0s 51us/sample - loss: 0.1007 - accuracy: 1.0000\n",
      "Epoch 92/100\n",
      "750/750 [==============================] - 0s 62us/sample - loss: 0.0991 - accuracy: 1.0000\n",
      "Epoch 93/100\n",
      "750/750 [==============================] - 0s 50us/sample - loss: 0.0974 - accuracy: 1.0000\n",
      "Epoch 94/100\n",
      "750/750 [==============================] - 0s 55us/sample - loss: 0.0958 - accuracy: 1.0000\n",
      "Epoch 95/100\n",
      "750/750 [==============================] - 0s 49us/sample - loss: 0.0943 - accuracy: 1.0000\n",
      "Epoch 96/100\n",
      "750/750 [==============================] - 0s 49us/sample - loss: 0.0927 - accuracy: 1.0000\n",
      "Epoch 97/100\n",
      "750/750 [==============================] - 0s 52us/sample - loss: 0.0912 - accuracy: 1.0000\n",
      "Epoch 98/100\n",
      "750/750 [==============================] - 0s 51us/sample - loss: 0.0898 - accuracy: 1.0000\n",
      "Epoch 99/100\n",
      "750/750 [==============================] - 0s 49us/sample - loss: 0.0883 - accuracy: 1.0000\n",
      "Epoch 100/100\n",
      "750/750 [==============================] - 0s 54us/sample - loss: 0.0869 - accuracy: 1.0000\n"
     ]
    }
   ],
   "source": [
    "# Fit the model to the training data\n",
    "fit_model = nn_model.fit(X_train_scaled, y_train, epochs=100)"
   ]
  },
  {
   "cell_type": "code",
   "execution_count": 14,
   "metadata": {},
   "outputs": [
    {
     "data": {
      "text/plain": [
       "<AxesSubplot:>"
      ]
     },
     "execution_count": 14,
     "metadata": {},
     "output_type": "execute_result"
    },
    {
     "data": {
      "image/png": "[encoded data removed]",
      "text/plain": [
       "<Figure size 432x288 with 1 Axes>"
      ]
     },
     "metadata": {
      "needs_background": "light"
     },
     "output_type": "display_data"
    }
   ],
   "source": [
    "# Create a DataFrame containing training history\n",
    "history_df = pd.DataFrame(fit_model.history, index=range(1,len(fit_model.history[\"loss\"])+1))\n",
    "\n",
    "# Plot the loss\n",
    "history_df.plot(y=\"loss\")"
   ]
  },
  {
   "cell_type": "code",
   "execution_count": 15,
   "metadata": {},
   "outputs": [
    {
     "data": {
      "text/plain": [
       "<AxesSubplot:>"
      ]
     },
     "execution_count": 15,
     "metadata": {},
     "output_type": "execute_result"
    },
    {
     "data": {
      "image/png": "[encoded data removed]",
      "text/plain": [
       "<Figure size 432x288 with 1 Axes>"
      ]
     },
     "metadata": {
      "needs_background": "light"
     },
     "output_type": "display_data"
    }
   ],
   "source": [
    "# Plot the accuracy\n",
    "history_df.plot(y=\"accuracy\")"
   ]
  },
  {
   "cell_type": "code",
   "execution_count": 16,
   "metadata": {},
   "outputs": [
    {
     "name": "stdout",
     "output_type": "stream",
     "text": [
      "250/1 - 0s - loss: 0.0778 - accuracy: 1.0000\n",
      "Loss: 0.08928124922513962, Accuracy: 1.0\n"
     ]
    }
   ],
   "source": [
    "# Evaluate the model using the test data\n",
    "model_loss, model_accuracy = nn_model.evaluate(X_test_scaled,y_test,verbose=2)\n",
    "print(f\"Loss: {model_loss}, Accuracy: {model_accuracy}\")"
   ]
  },
  {
   "cell_type": "code",
   "execution_count": 17,
   "metadata": {},
   "outputs": [
    {
     "data": {
      "text/plain": [
       "array([[0],\n",
       "       [1],\n",
       "       [0],\n",
       "       [1],\n",
       "       [0],\n",
       "       [0],\n",
       "       [1],\n",
       "       [1],\n",
       "       [1],\n",
       "       [0]], dtype=int32)"
      ]
     },
     "execution_count": 17,
     "metadata": {},
     "output_type": "execute_result"
    }
   ],
   "source": [
    "# Predict the classification of a new set of blob data\n",
    "new_X, new_Y = make_blobs(n_samples=10, centers=2, n_features=2, random_state=78)\n",
    "new_X_scaled = X_scaler.transform(new_X)\n",
    "nn_model.predict_classes(new_X_scaled)"
   ]
  },
  {
   "cell_type": "code",
   "execution_count": 18,
   "metadata": {},
   "outputs": [
    {
     "data": {
      "text/plain": [
       "<AxesSubplot:xlabel='Feature 1', ylabel='Feature 2'>"
      ]
     },
     "execution_count": 18,
     "metadata": {},
     "output_type": "execute_result"
    },
    {
     "data": {
      "image/png": "[encoded data removed]",
      "text/plain": [
       "<Figure size 432x288 with 2 Axes>"
      ]
     },
     "metadata": {
      "needs_background": "light"
     },
     "output_type": "display_data"
    }
   ],
   "source": [
    "from sklearn.datasets import make_moons\n",
    "\n",
    "# Creating dummy nonlinear data\n",
    "X_moons, y_moons = make_moons(n_samples=1000, noise=0.08, random_state=78)\n",
    "\n",
    "# Transforming y_moons to a vertical vector\n",
    "y_moons = y_moons.reshape(-1, 1)\n",
    "\n",
    "# Creating a DataFrame to plot the nonlinear dummy data\n",
    "df_moons = pd.DataFrame(X_moons, columns=[\"Feature 1\", \"Feature 2\"])\n",
    "df_moons[\"Target\"] = y_moons\n",
    "\n",
    "# Plot the nonlinear dummy data\n",
    "df_moons.plot.scatter(x=\"Feature 1\",y=\"Feature 2\", c=\"Target\",colormap=\"winter\")"
   ]
  },
  {
   "cell_type": "code",
   "execution_count": 19,
   "metadata": {},
   "outputs": [],
   "source": [
    "# Create training and testing sets\n",
    "X_moon_train, X_moon_test, y_moon_train, y_moon_test = train_test_split(\n",
    "    X_moons, y_moons, random_state=78\n",
    ")\n",
    "\n",
    "# Create the scaler instance\n",
    "X_moon_scaler = skl.preprocessing.StandardScaler()\n",
    "\n",
    "# Fit the scaler\n",
    "X_moon_scaler.fit(X_moon_train)\n",
    "\n",
    "# Scale the data\n",
    "X_moon_train_scaled = X_moon_scaler.transform(X_moon_train)\n",
    "X_moon_test_scaled = X_moon_scaler.transform(X_moon_test)"
   ]
  },
  {
   "cell_type": "code",
   "execution_count": 20,
   "metadata": {},
   "outputs": [
    {
     "name": "stdout",
     "output_type": "stream",
     "text": [
      "Train on 750 samples\n",
      "Epoch 1/100\n",
      "750/750 [==============================] - 0s 109us/sample - loss: 0.8552 - accuracy: 0.5613\n",
      "Epoch 2/100\n",
      "750/750 [==============================] - 0s 59us/sample - loss: 0.7891 - accuracy: 0.5720\n",
      "Epoch 3/100\n",
      "750/750 [==============================] - 0s 55us/sample - loss: 0.7402 - accuracy: 0.5840\n",
      "Epoch 4/100\n",
      "750/750 [==============================] - 0s 57us/sample - loss: 0.7065 - accuracy: 0.6027\n",
      "Epoch 5/100\n",
      "750/750 [==============================] - 0s 56us/sample - loss: 0.6799 - accuracy: 0.6120\n",
      "Epoch 6/100\n",
      "750/750 [==============================] - 0s 59us/sample - loss: 0.6592 - accuracy: 0.6187\n",
      "Epoch 7/100\n",
      "750/750 [==============================] - 0s 57us/sample - loss: 0.6413 - accuracy: 0.6293\n",
      "Epoch 8/100\n",
      "750/750 [==============================] - 0s 60us/sample - loss: 0.6266 - accuracy: 0.6387\n",
      "Epoch 9/100\n",
      "750/750 [==============================] - 0s 56us/sample - loss: 0.6135 - accuracy: 0.6467\n",
      "Epoch 10/100\n",
      "750/750 [==============================] - 0s 52us/sample - loss: 0.6013 - accuracy: 0.6533\n",
      "Epoch 11/100\n",
      "750/750 [==============================] - 0s 53us/sample - loss: 0.5906 - accuracy: 0.6587\n",
      "Epoch 12/100\n",
      "750/750 [==============================] - 0s 53us/sample - loss: 0.5803 - accuracy: 0.6667\n",
      "Epoch 13/100\n",
      "750/750 [==============================] - 0s 53us/sample - loss: 0.5709 - accuracy: 0.6747\n",
      "Epoch 14/100\n",
      "750/750 [==============================] - 0s 54us/sample - loss: 0.5615 - accuracy: 0.6800\n",
      "Epoch 15/100\n",
      "750/750 [==============================] - 0s 53us/sample - loss: 0.5528 - accuracy: 0.6853\n",
      "Epoch 16/100\n",
      "750/750 [==============================] - 0s 57us/sample - loss: 0.5444 - accuracy: 0.6893\n",
      "Epoch 17/100\n",
      "750/750 [==============================] - 0s 56us/sample - loss: 0.5365 - accuracy: 0.6987\n",
      "Epoch 18/100\n",
      "750/750 [==============================] - 0s 55us/sample - loss: 0.5288 - accuracy: 0.7013\n",
      "Epoch 19/100\n",
      "750/750 [==============================] - 0s 61us/sample - loss: 0.5212 - accuracy: 0.7040\n",
      "Epoch 20/100\n",
      "750/750 [==============================] - 0s 58us/sample - loss: 0.5138 - accuracy: 0.7080\n",
      "Epoch 21/100\n",
      "750/750 [==============================] - 0s 57us/sample - loss: 0.5064 - accuracy: 0.7120\n",
      "Epoch 22/100\n",
      "750/750 [==============================] - 0s 55us/sample - loss: 0.4996 - accuracy: 0.7160\n",
      "Epoch 23/100\n",
      "750/750 [==============================] - 0s 55us/sample - loss: 0.4927 - accuracy: 0.7173\n",
      "Epoch 24/100\n",
      "750/750 [==============================] - 0s 59us/sample - loss: 0.4861 - accuracy: 0.7253\n",
      "Epoch 25/100\n",
      "750/750 [==============================] - 0s 55us/sample - loss: 0.4796 - accuracy: 0.7320\n",
      "Epoch 26/100\n",
      "750/750 [==============================] - 0s 55us/sample - loss: 0.4731 - accuracy: 0.7347\n",
      "Epoch 27/100\n",
      "750/750 [==============================] - 0s 54us/sample - loss: 0.4673 - accuracy: 0.7373\n",
      "Epoch 28/100\n",
      "750/750 [==============================] - 0s 53us/sample - loss: 0.4612 - accuracy: 0.7400\n",
      "Epoch 29/100\n",
      "750/750 [==============================] - 0s 55us/sample - loss: 0.4555 - accuracy: 0.7413\n",
      "Epoch 30/100\n",
      "750/750 [==============================] - 0s 55us/sample - loss: 0.4500 - accuracy: 0.7480\n",
      "Epoch 31/100\n",
      "750/750 [==============================] - 0s 52us/sample - loss: 0.4446 - accuracy: 0.7533\n",
      "Epoch 32/100\n",
      "750/750 [==============================] - 0s 54us/sample - loss: 0.4394 - accuracy: 0.7547\n",
      "Epoch 33/100\n",
      "750/750 [==============================] - 0s 59us/sample - loss: 0.4342 - accuracy: 0.7573\n",
      "Epoch 34/100\n",
      "750/750 [==============================] - 0s 55us/sample - loss: 0.4293 - accuracy: 0.7640\n",
      "Epoch 35/100\n",
      "750/750 [==============================] - 0s 55us/sample - loss: 0.4247 - accuracy: 0.7707\n",
      "Epoch 36/100\n",
      "750/750 [==============================] - 0s 61us/sample - loss: 0.4196 - accuracy: 0.7747\n",
      "Epoch 37/100\n",
      "750/750 [==============================] - 0s 56us/sample - loss: 0.4150 - accuracy: 0.7773\n",
      "Epoch 38/100\n",
      "750/750 [==============================] - 0s 53us/sample - loss: 0.4106 - accuracy: 0.7813\n",
      "Epoch 39/100\n",
      "750/750 [==============================] - 0s 60us/sample - loss: 0.4061 - accuracy: 0.7840\n",
      "Epoch 40/100\n",
      "750/750 [==============================] - 0s 53us/sample - loss: 0.4018 - accuracy: 0.7840\n",
      "Epoch 41/100\n",
      "750/750 [==============================] - 0s 52us/sample - loss: 0.3976 - accuracy: 0.7853\n",
      "Epoch 42/100\n",
      "750/750 [==============================] - 0s 54us/sample - loss: 0.3934 - accuracy: 0.7880\n",
      "Epoch 43/100\n",
      "750/750 [==============================] - 0s 57us/sample - loss: 0.3892 - accuracy: 0.7907\n",
      "Epoch 44/100\n",
      "750/750 [==============================] - 0s 54us/sample - loss: 0.3852 - accuracy: 0.7933\n",
      "Epoch 45/100\n",
      "750/750 [==============================] - 0s 56us/sample - loss: 0.3811 - accuracy: 0.7933\n",
      "Epoch 46/100\n",
      "750/750 [==============================] - 0s 56us/sample - loss: 0.3772 - accuracy: 0.7987\n",
      "Epoch 47/100\n",
      "750/750 [==============================] - 0s 56us/sample - loss: 0.3734 - accuracy: 0.8027\n",
      "Epoch 48/100\n",
      "750/750 [==============================] - 0s 53us/sample - loss: 0.3696 - accuracy: 0.8080\n",
      "Epoch 49/100\n",
      "750/750 [==============================] - 0s 56us/sample - loss: 0.3659 - accuracy: 0.8120\n",
      "Epoch 50/100\n",
      "750/750 [==============================] - 0s 56us/sample - loss: 0.3623 - accuracy: 0.8133\n",
      "Epoch 51/100\n",
      "750/750 [==============================] - 0s 59us/sample - loss: 0.3587 - accuracy: 0.8173\n",
      "Epoch 52/100\n",
      "750/750 [==============================] - 0s 66us/sample - loss: 0.3551 - accuracy: 0.8187\n",
      "Epoch 53/100\n",
      "750/750 [==============================] - 0s 58us/sample - loss: 0.3516 - accuracy: 0.8213\n",
      "Epoch 54/100\n",
      "750/750 [==============================] - 0s 62us/sample - loss: 0.3484 - accuracy: 0.8213\n",
      "Epoch 55/100\n",
      "750/750 [==============================] - 0s 55us/sample - loss: 0.3451 - accuracy: 0.8253\n",
      "Epoch 56/100\n",
      "750/750 [==============================] - 0s 52us/sample - loss: 0.3420 - accuracy: 0.8253\n",
      "Epoch 57/100\n",
      "750/750 [==============================] - 0s 53us/sample - loss: 0.3389 - accuracy: 0.8267\n",
      "Epoch 58/100\n",
      "750/750 [==============================] - 0s 54us/sample - loss: 0.3360 - accuracy: 0.8280\n",
      "Epoch 59/100\n",
      "750/750 [==============================] - 0s 58us/sample - loss: 0.3331 - accuracy: 0.8293\n",
      "Epoch 60/100\n",
      "750/750 [==============================] - 0s 55us/sample - loss: 0.3304 - accuracy: 0.8307\n",
      "Epoch 61/100\n",
      "750/750 [==============================] - 0s 53us/sample - loss: 0.3278 - accuracy: 0.8307\n",
      "Epoch 62/100\n",
      "750/750 [==============================] - 0s 51us/sample - loss: 0.3253 - accuracy: 0.8320\n",
      "Epoch 63/100\n",
      "750/750 [==============================] - 0s 53us/sample - loss: 0.3229 - accuracy: 0.8333\n",
      "Epoch 64/100\n",
      "750/750 [==============================] - 0s 51us/sample - loss: 0.3205 - accuracy: 0.8360\n",
      "Epoch 65/100\n",
      "750/750 [==============================] - 0s 53us/sample - loss: 0.3181 - accuracy: 0.8373\n",
      "Epoch 66/100\n",
      "750/750 [==============================] - 0s 57us/sample - loss: 0.3160 - accuracy: 0.8413\n",
      "Epoch 67/100\n",
      "750/750 [==============================] - 0s 51us/sample - loss: 0.3139 - accuracy: 0.8440\n",
      "Epoch 68/100\n",
      "750/750 [==============================] - 0s 74us/sample - loss: 0.3119 - accuracy: 0.8467\n",
      "Epoch 69/100\n",
      "750/750 [==============================] - 0s 71us/sample - loss: 0.3099 - accuracy: 0.8493\n",
      "Epoch 70/100\n",
      "750/750 [==============================] - 0s 71us/sample - loss: 0.3080 - accuracy: 0.8507\n",
      "Epoch 71/100\n",
      "750/750 [==============================] - 0s 69us/sample - loss: 0.3062 - accuracy: 0.8533\n",
      "Epoch 72/100\n",
      "750/750 [==============================] - 0s 67us/sample - loss: 0.3044 - accuracy: 0.8560\n",
      "Epoch 73/100\n",
      "750/750 [==============================] - 0s 66us/sample - loss: 0.3029 - accuracy: 0.8573\n",
      "Epoch 74/100\n",
      "750/750 [==============================] - 0s 62us/sample - loss: 0.3010 - accuracy: 0.8600\n",
      "Epoch 75/100\n",
      "750/750 [==============================] - 0s 61us/sample - loss: 0.2995 - accuracy: 0.8627\n",
      "Epoch 76/100\n",
      "750/750 [==============================] - 0s 62us/sample - loss: 0.2979 - accuracy: 0.8640\n",
      "Epoch 77/100\n",
      "750/750 [==============================] - 0s 61us/sample - loss: 0.2964 - accuracy: 0.8640\n",
      "Epoch 78/100\n"
     ]
    },
    {
     "name": "stdout",
     "output_type": "stream",
     "text": [
      "750/750 [==============================] - 0s 59us/sample - loss: 0.2950 - accuracy: 0.8653\n",
      "Epoch 79/100\n",
      "750/750 [==============================] - 0s 63us/sample - loss: 0.2936 - accuracy: 0.8680\n",
      "Epoch 80/100\n",
      "750/750 [==============================] - 0s 62us/sample - loss: 0.2923 - accuracy: 0.8680\n",
      "Epoch 81/100\n",
      "750/750 [==============================] - 0s 50us/sample - loss: 0.2912 - accuracy: 0.8680\n",
      "Epoch 82/100\n",
      "750/750 [==============================] - 0s 50us/sample - loss: 0.2898 - accuracy: 0.8680\n",
      "Epoch 83/100\n",
      "750/750 [==============================] - 0s 50us/sample - loss: 0.2885 - accuracy: 0.8680\n",
      "Epoch 84/100\n",
      "750/750 [==============================] - 0s 55us/sample - loss: 0.2874 - accuracy: 0.8680\n",
      "Epoch 85/100\n",
      "750/750 [==============================] - 0s 56us/sample - loss: 0.2863 - accuracy: 0.8693\n",
      "Epoch 86/100\n",
      "750/750 [==============================] - 0s 50us/sample - loss: 0.2853 - accuracy: 0.8693\n",
      "Epoch 87/100\n",
      "750/750 [==============================] - 0s 50us/sample - loss: 0.2842 - accuracy: 0.8720\n",
      "Epoch 88/100\n",
      "750/750 [==============================] - 0s 55us/sample - loss: 0.2832 - accuracy: 0.8733\n",
      "Epoch 89/100\n",
      "750/750 [==============================] - 0s 51us/sample - loss: 0.2822 - accuracy: 0.8747\n",
      "Epoch 90/100\n",
      "750/750 [==============================] - 0s 50us/sample - loss: 0.2812 - accuracy: 0.8747\n",
      "Epoch 91/100\n",
      "750/750 [==============================] - 0s 51us/sample - loss: 0.2803 - accuracy: 0.8760\n",
      "Epoch 92/100\n",
      "750/750 [==============================] - 0s 53us/sample - loss: 0.2794 - accuracy: 0.8773\n",
      "Epoch 93/100\n",
      "750/750 [==============================] - 0s 51us/sample - loss: 0.2785 - accuracy: 0.8787\n",
      "Epoch 94/100\n",
      "750/750 [==============================] - 0s 52us/sample - loss: 0.2777 - accuracy: 0.8800\n",
      "Epoch 95/100\n",
      "750/750 [==============================] - 0s 50us/sample - loss: 0.2769 - accuracy: 0.8800\n",
      "Epoch 96/100\n",
      "750/750 [==============================] - 0s 52us/sample - loss: 0.2761 - accuracy: 0.8800\n",
      "Epoch 97/100\n",
      "750/750 [==============================] - 0s 53us/sample - loss: 0.2753 - accuracy: 0.8800\n",
      "Epoch 98/100\n",
      "750/750 [==============================] - 0s 51us/sample - loss: 0.2746 - accuracy: 0.8827\n",
      "Epoch 99/100\n",
      "750/750 [==============================] - 0s 59us/sample - loss: 0.2738 - accuracy: 0.8827\n",
      "Epoch 100/100\n",
      "750/750 [==============================] - 0s 56us/sample - loss: 0.2731 - accuracy: 0.8840\n"
     ]
    }
   ],
   "source": [
    "# Training the model with the nonlinear data\n",
    "model_moon = nn_model.fit(X_moon_train_scaled, y_moon_train, epochs=100, shuffle=True)"
   ]
  },
  {
   "cell_type": "code",
   "execution_count": 21,
   "metadata": {},
   "outputs": [
    {
     "data": {
      "text/plain": [
       "<AxesSubplot:>"
      ]
     },
     "execution_count": 21,
     "metadata": {},
     "output_type": "execute_result"
    },
    {
     "data": {
      "image/png": "[encoded data removed]",
      "text/plain": [
       "<Figure size 432x288 with 1 Axes>"
      ]
     },
     "metadata": {
      "needs_background": "light"
     },
     "output_type": "display_data"
    }
   ],
   "source": [
    "# Create a DataFrame containing training history\n",
    "history_df = pd.DataFrame(model_moon.history, index=range(1,len(model_moon.history[\"loss\"])+1))\n",
    "\n",
    "# Plot the loss\n",
    "history_df.plot(y=\"loss\")"
   ]
  },
  {
   "cell_type": "code",
   "execution_count": 22,
   "metadata": {},
   "outputs": [
    {
     "data": {
      "text/plain": [
       "<AxesSubplot:>"
      ]
     },
     "execution_count": 22,
     "metadata": {},
     "output_type": "execute_result"
    },
    {
     "data": {
      "image/png": "[encoded data removed]",
      "text/plain": [
       "<Figure size 432x288 with 1 Axes>"
      ]
     },
     "metadata": {
      "needs_background": "light"
     },
     "output_type": "display_data"
    }
   ],
   "source": [
    "# Plot the loss\n",
    "history_df.plot(y=\"accuracy\")"
   ]
  },
  {
   "cell_type": "code",
   "execution_count": 23,
   "metadata": {},
   "outputs": [],
   "source": [
    "# Generate our new Sequential model\n",
    "new_model = tf.keras.models.Sequential()"
   ]
  },
  {
   "cell_type": "code",
   "execution_count": 24,
   "metadata": {},
   "outputs": [],
   "source": [
    "# Add the input and hidden layer\n",
    "number_inputs = 2\n",
    "number_hidden_nodes = 6\n",
    "\n",
    "new_model.add(tf.keras.layers.Dense(units=number_hidden_nodes, activation=\"relu\", input_dim=number_inputs))\n",
    "\n",
    "# Add the output layer that uses a probability activation function\n",
    "new_model.add(tf.keras.layers.Dense(units=1, activation=\"sigmoid\"))"
   ]
  },
  {
   "cell_type": "code",
   "execution_count": 25,
   "metadata": {},
   "outputs": [
    {
     "name": "stdout",
     "output_type": "stream",
     "text": [
      "Train on 750 samples\n",
      "Epoch 1/100\n",
      "750/750 [==============================] - 1s 1ms/sample - loss: 0.8748 - accuracy: 0.4693\n",
      "Epoch 2/100\n",
      "750/750 [==============================] - 0s 62us/sample - loss: 0.8225 - accuracy: 0.4693\n",
      "Epoch 3/100\n",
      "750/750 [==============================] - 0s 79us/sample - loss: 0.7766 - accuracy: 0.4693\n",
      "Epoch 4/100\n",
      "750/750 [==============================] - 0s 66us/sample - loss: 0.7398 - accuracy: 0.4693\n",
      "Epoch 5/100\n",
      "750/750 [==============================] - 0s 61us/sample - loss: 0.7084 - accuracy: 0.4720\n",
      "Epoch 6/100\n",
      "750/750 [==============================] - 0s 59us/sample - loss: 0.6811 - accuracy: 0.4747\n",
      "Epoch 7/100\n",
      "750/750 [==============================] - 0s 63us/sample - loss: 0.6565 - accuracy: 0.4840\n",
      "Epoch 8/100\n",
      "750/750 [==============================] - 0s 66us/sample - loss: 0.6340 - accuracy: 0.4973\n",
      "Epoch 9/100\n",
      "750/750 [==============================] - 0s 63us/sample - loss: 0.6135 - accuracy: 0.5107\n",
      "Epoch 10/100\n",
      "750/750 [==============================] - 0s 65us/sample - loss: 0.5948 - accuracy: 0.5360\n",
      "Epoch 11/100\n",
      "750/750 [==============================] - 0s 60us/sample - loss: 0.5777 - accuracy: 0.5907\n",
      "Epoch 12/100\n",
      "750/750 [==============================] - 0s 68us/sample - loss: 0.5620 - accuracy: 0.7133\n",
      "Epoch 13/100\n",
      "750/750 [==============================] - 0s 62us/sample - loss: 0.5474 - accuracy: 0.7627\n",
      "Epoch 14/100\n",
      "750/750 [==============================] - 0s 62us/sample - loss: 0.5341 - accuracy: 0.7813\n",
      "Epoch 15/100\n",
      "750/750 [==============================] - 0s 66us/sample - loss: 0.5216 - accuracy: 0.7867\n",
      "Epoch 16/100\n",
      "750/750 [==============================] - 0s 69us/sample - loss: 0.5102 - accuracy: 0.7947\n",
      "Epoch 17/100\n",
      "750/750 [==============================] - 0s 61us/sample - loss: 0.4996 - accuracy: 0.8067\n",
      "Epoch 18/100\n",
      "750/750 [==============================] - 0s 62us/sample - loss: 0.4897 - accuracy: 0.8120\n",
      "Epoch 19/100\n",
      "750/750 [==============================] - 0s 70us/sample - loss: 0.4805 - accuracy: 0.8187\n",
      "Epoch 20/100\n",
      "750/750 [==============================] - 0s 62us/sample - loss: 0.4718 - accuracy: 0.8240\n",
      "Epoch 21/100\n",
      "750/750 [==============================] - 0s 62us/sample - loss: 0.4638 - accuracy: 0.8360\n",
      "Epoch 22/100\n",
      "750/750 [==============================] - 0s 64us/sample - loss: 0.4561 - accuracy: 0.8413\n",
      "Epoch 23/100\n",
      "750/750 [==============================] - 0s 70us/sample - loss: 0.4491 - accuracy: 0.8467\n",
      "Epoch 24/100\n",
      "750/750 [==============================] - 0s 58us/sample - loss: 0.4424 - accuracy: 0.8480\n",
      "Epoch 25/100\n",
      "750/750 [==============================] - 0s 68us/sample - loss: 0.4361 - accuracy: 0.8507\n",
      "Epoch 26/100\n",
      "750/750 [==============================] - 0s 63us/sample - loss: 0.4302 - accuracy: 0.8587\n",
      "Epoch 27/100\n",
      "750/750 [==============================] - 0s 61us/sample - loss: 0.4244 - accuracy: 0.8600\n",
      "Epoch 28/100\n",
      "750/750 [==============================] - 0s 62us/sample - loss: 0.4190 - accuracy: 0.8627\n",
      "Epoch 29/100\n",
      "750/750 [==============================] - 0s 60us/sample - loss: 0.4142 - accuracy: 0.8680\n",
      "Epoch 30/100\n",
      "750/750 [==============================] - 0s 64us/sample - loss: 0.4093 - accuracy: 0.8680\n",
      "Epoch 31/100\n",
      "750/750 [==============================] - 0s 65us/sample - loss: 0.4049 - accuracy: 0.8693\n",
      "Epoch 32/100\n",
      "750/750 [==============================] - 0s 69us/sample - loss: 0.4006 - accuracy: 0.8707\n",
      "Epoch 33/100\n",
      "750/750 [==============================] - 0s 65us/sample - loss: 0.3965 - accuracy: 0.8747\n",
      "Epoch 34/100\n",
      "750/750 [==============================] - 0s 63us/sample - loss: 0.3926 - accuracy: 0.8787\n",
      "Epoch 35/100\n",
      "750/750 [==============================] - 0s 71us/sample - loss: 0.3888 - accuracy: 0.8800\n",
      "Epoch 36/100\n",
      "750/750 [==============================] - 0s 63us/sample - loss: 0.3852 - accuracy: 0.8813\n",
      "Epoch 37/100\n",
      "750/750 [==============================] - 0s 63us/sample - loss: 0.3818 - accuracy: 0.8840\n",
      "Epoch 38/100\n",
      "750/750 [==============================] - 0s 67us/sample - loss: 0.3783 - accuracy: 0.8867\n",
      "Epoch 39/100\n",
      "750/750 [==============================] - 0s 66us/sample - loss: 0.3751 - accuracy: 0.8867\n",
      "Epoch 40/100\n",
      "750/750 [==============================] - 0s 63us/sample - loss: 0.3720 - accuracy: 0.8893\n",
      "Epoch 41/100\n",
      "750/750 [==============================] - 0s 63us/sample - loss: 0.3689 - accuracy: 0.8893\n",
      "Epoch 42/100\n",
      "750/750 [==============================] - 0s 63us/sample - loss: 0.3660 - accuracy: 0.8893\n",
      "Epoch 43/100\n",
      "750/750 [==============================] - 0s 61us/sample - loss: 0.3632 - accuracy: 0.8893\n",
      "Epoch 44/100\n",
      "750/750 [==============================] - 0s 68us/sample - loss: 0.3604 - accuracy: 0.8893\n",
      "Epoch 45/100\n",
      "750/750 [==============================] - 0s 60us/sample - loss: 0.3578 - accuracy: 0.8893\n",
      "Epoch 46/100\n",
      "750/750 [==============================] - 0s 59us/sample - loss: 0.3552 - accuracy: 0.8920\n",
      "Epoch 47/100\n",
      "750/750 [==============================] - 0s 75us/sample - loss: 0.3526 - accuracy: 0.8920\n",
      "Epoch 48/100\n",
      "750/750 [==============================] - 0s 62us/sample - loss: 0.3502 - accuracy: 0.8920\n",
      "Epoch 49/100\n",
      "750/750 [==============================] - 0s 62us/sample - loss: 0.3477 - accuracy: 0.8933\n",
      "Epoch 50/100\n",
      "750/750 [==============================] - 0s 66us/sample - loss: 0.3454 - accuracy: 0.8947\n",
      "Epoch 51/100\n",
      "750/750 [==============================] - 0s 64us/sample - loss: 0.3432 - accuracy: 0.8947\n",
      "Epoch 52/100\n",
      "750/750 [==============================] - 0s 65us/sample - loss: 0.3410 - accuracy: 0.8947\n",
      "Epoch 53/100\n",
      "750/750 [==============================] - 0s 84us/sample - loss: 0.3389 - accuracy: 0.8973\n",
      "Epoch 54/100\n",
      "750/750 [==============================] - 0s 81us/sample - loss: 0.3369 - accuracy: 0.8987\n",
      "Epoch 55/100\n",
      "750/750 [==============================] - 0s 69us/sample - loss: 0.3348 - accuracy: 0.8987\n",
      "Epoch 56/100\n",
      "750/750 [==============================] - 0s 68us/sample - loss: 0.3329 - accuracy: 0.9000\n",
      "Epoch 57/100\n",
      "750/750 [==============================] - 0s 67us/sample - loss: 0.3310 - accuracy: 0.8987\n",
      "Epoch 58/100\n",
      "750/750 [==============================] - 0s 58us/sample - loss: 0.3292 - accuracy: 0.8987\n",
      "Epoch 59/100\n",
      "750/750 [==============================] - 0s 58us/sample - loss: 0.3274 - accuracy: 0.9013\n",
      "Epoch 60/100\n",
      "750/750 [==============================] - 0s 64us/sample - loss: 0.3256 - accuracy: 0.9013\n",
      "Epoch 61/100\n",
      "750/750 [==============================] - 0s 63us/sample - loss: 0.3238 - accuracy: 0.9013\n",
      "Epoch 62/100\n",
      "750/750 [==============================] - 0s 60us/sample - loss: 0.3222 - accuracy: 0.9027\n",
      "Epoch 63/100\n",
      "750/750 [==============================] - 0s 63us/sample - loss: 0.3206 - accuracy: 0.9013\n",
      "Epoch 64/100\n",
      "750/750 [==============================] - 0s 61us/sample - loss: 0.3190 - accuracy: 0.9027\n",
      "Epoch 65/100\n",
      "750/750 [==============================] - 0s 62us/sample - loss: 0.3174 - accuracy: 0.9027\n",
      "Epoch 66/100\n",
      "750/750 [==============================] - 0s 61us/sample - loss: 0.3159 - accuracy: 0.9027\n",
      "Epoch 67/100\n",
      "750/750 [==============================] - 0s 60us/sample - loss: 0.3144 - accuracy: 0.9040\n",
      "Epoch 68/100\n",
      "750/750 [==============================] - 0s 58us/sample - loss: 0.3129 - accuracy: 0.9040\n",
      "Epoch 69/100\n",
      "750/750 [==============================] - 0s 64us/sample - loss: 0.3114 - accuracy: 0.9053\n",
      "Epoch 70/100\n",
      "750/750 [==============================] - 0s 61us/sample - loss: 0.3100 - accuracy: 0.9053\n",
      "Epoch 71/100\n",
      "750/750 [==============================] - 0s 62us/sample - loss: 0.3086 - accuracy: 0.9067\n",
      "Epoch 72/100\n",
      "750/750 [==============================] - 0s 63us/sample - loss: 0.3073 - accuracy: 0.9053\n",
      "Epoch 73/100\n",
      "750/750 [==============================] - 0s 57us/sample - loss: 0.3059 - accuracy: 0.9067\n",
      "Epoch 74/100\n",
      "750/750 [==============================] - 0s 61us/sample - loss: 0.3047 - accuracy: 0.9067\n",
      "Epoch 75/100\n",
      "750/750 [==============================] - 0s 66us/sample - loss: 0.3033 - accuracy: 0.9067\n",
      "Epoch 76/100\n",
      "750/750 [==============================] - 0s 61us/sample - loss: 0.3021 - accuracy: 0.9067\n",
      "Epoch 77/100\n",
      "750/750 [==============================] - 0s 65us/sample - loss: 0.3009 - accuracy: 0.9067\n",
      "Epoch 78/100\n"
     ]
    },
    {
     "name": "stdout",
     "output_type": "stream",
     "text": [
      "750/750 [==============================] - 0s 90us/sample - loss: 0.2996 - accuracy: 0.9040\n",
      "Epoch 79/100\n",
      "750/750 [==============================] - 0s 68us/sample - loss: 0.2984 - accuracy: 0.9067\n",
      "Epoch 80/100\n",
      "750/750 [==============================] - 0s 61us/sample - loss: 0.2972 - accuracy: 0.9053\n",
      "Epoch 81/100\n",
      "750/750 [==============================] - 0s 58us/sample - loss: 0.2959 - accuracy: 0.9040\n",
      "Epoch 82/100\n",
      "750/750 [==============================] - 0s 59us/sample - loss: 0.2948 - accuracy: 0.9040\n",
      "Epoch 83/100\n",
      "750/750 [==============================] - 0s 60us/sample - loss: 0.2936 - accuracy: 0.9040\n",
      "Epoch 84/100\n",
      "750/750 [==============================] - 0s 60us/sample - loss: 0.2924 - accuracy: 0.9027\n",
      "Epoch 85/100\n",
      "750/750 [==============================] - 0s 59us/sample - loss: 0.2913 - accuracy: 0.9040\n",
      "Epoch 86/100\n",
      "750/750 [==============================] - 0s 60us/sample - loss: 0.2902 - accuracy: 0.9027\n",
      "Epoch 87/100\n",
      "750/750 [==============================] - 0s 57us/sample - loss: 0.2890 - accuracy: 0.9027\n",
      "Epoch 88/100\n",
      "750/750 [==============================] - 0s 55us/sample - loss: 0.2879 - accuracy: 0.9040\n",
      "Epoch 89/100\n",
      "750/750 [==============================] - 0s 54us/sample - loss: 0.2868 - accuracy: 0.9040\n",
      "Epoch 90/100\n",
      "750/750 [==============================] - 0s 58us/sample - loss: 0.2857 - accuracy: 0.9040\n",
      "Epoch 91/100\n",
      "750/750 [==============================] - 0s 58us/sample - loss: 0.2846 - accuracy: 0.9040\n",
      "Epoch 92/100\n",
      "750/750 [==============================] - 0s 69us/sample - loss: 0.2835 - accuracy: 0.9067\n",
      "Epoch 93/100\n",
      "750/750 [==============================] - 0s 59us/sample - loss: 0.2825 - accuracy: 0.9053\n",
      "Epoch 94/100\n",
      "750/750 [==============================] - 0s 58us/sample - loss: 0.2816 - accuracy: 0.9067\n",
      "Epoch 95/100\n",
      "750/750 [==============================] - 0s 63us/sample - loss: 0.2803 - accuracy: 0.9067\n",
      "Epoch 96/100\n",
      "750/750 [==============================] - 0s 62us/sample - loss: 0.2793 - accuracy: 0.9067\n",
      "Epoch 97/100\n",
      "750/750 [==============================] - 0s 58us/sample - loss: 0.2783 - accuracy: 0.9067\n",
      "Epoch 98/100\n",
      "750/750 [==============================] - 0s 57us/sample - loss: 0.2773 - accuracy: 0.9067\n",
      "Epoch 99/100\n",
      "750/750 [==============================] - 0s 67us/sample - loss: 0.2762 - accuracy: 0.9067\n",
      "Epoch 100/100\n",
      "750/750 [==============================] - 0s 55us/sample - loss: 0.2752 - accuracy: 0.9080\n"
     ]
    }
   ],
   "source": [
    "# Compile the Sequential model together and customize metrics\n",
    "new_model.compile(loss=\"binary_crossentropy\", optimizer=\"adam\", metrics=[\"accuracy\"])\n",
    "\n",
    "# Fit the model to the training data\n",
    "new_fit_model = new_model.fit(X_moon_train_scaled, y_moon_train, epochs=100, shuffle=True)"
   ]
  },
  {
   "cell_type": "code",
   "execution_count": null,
   "metadata": {},
   "outputs": [],
   "source": []
  }
 ],
 "metadata": {
  "kernelspec": {
   "display_name": "PythonData",
   "language": "python",
   "name": "pythondata"
  },
  "language_info": {
   "codemirror_mode": {
    "name": "ipython",
    "version": 3
   },
   "file_extension": ".py",
   "mimetype": "text/x-python",
   "name": "python",
   "nbconvert_exporter": "python",
   "pygments_lexer": "ipython3",
   "version": "3.7.6"
  }
 },
 "nbformat": 4,
 "nbformat_minor": 4
}
